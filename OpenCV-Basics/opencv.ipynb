{
 "cells": [
  {
   "cell_type": "code",
   "execution_count": 2,
   "id": "6701eb3b",
   "metadata": {},
   "outputs": [],
   "source": [
    "import cv2\n",
    "import matplotlib.pyplot as plt\n",
    "import numpy as np"
   ]
  },
  {
   "cell_type": "code",
   "execution_count": 23,
   "id": "c256197c",
   "metadata": {},
   "outputs": [
    {
     "data": {
      "text/plain": [
       "(638, 1141, 3)"
      ]
     },
     "execution_count": 23,
     "metadata": {},
     "output_type": "execute_result"
    }
   ],
   "source": [
    "# reading an image\n",
    "img=cv2.imread(\"img/beach.jpg\",1)\n",
    "type(img)\n",
    "img.shape"
   ]
  },
  {
   "cell_type": "code",
   "execution_count": 24,
   "id": "dbcb125e",
   "metadata": {},
   "outputs": [],
   "source": [
    "cv2.imshow(\"demo\", img)\n",
    "cv2.waitKey(0)\n",
    "cv2.destroyAllWindows()"
   ]
  },
  {
   "cell_type": "code",
   "execution_count": 15,
   "id": "087ece1a",
   "metadata": {},
   "outputs": [
    {
     "data": {
      "text/plain": [
       "True"
      ]
     },
     "execution_count": 15,
     "metadata": {},
     "output_type": "execute_result"
    }
   ],
   "source": [
    "cv2.imwrite(\"rgb.jpg\",img)"
   ]
  },
  {
   "cell_type": "code",
   "execution_count": 30,
   "id": "bf9fa662",
   "metadata": {},
   "outputs": [],
   "source": [
    "font=cv2.FONT_HERSHEY_PLAIN\n",
    "rectangle_draw=cv2.rectangle(img,(348,0),(510,128),(0,255,0),3)\n",
    "cv2.putText(rectangle_draw,\"Rectangle\",(384+3, 0+70), font, 1,(255,0,0),2,cv2.LINE_4)\n",
    "cv2.imshow(\"rectangle_draw\", rectangle_draw)\n",
    "cv2.waitKey(0)\n",
    "cv2.destroyAllWindows()"
   ]
  },
  {
   "cell_type": "code",
   "execution_count": null,
   "id": "33c5d28d",
   "metadata": {},
   "outputs": [],
   "source": []
  }
 ],
 "metadata": {
  "kernelspec": {
   "display_name": "Python 3 (ipykernel)",
   "language": "python",
   "name": "python3"
  },
  "language_info": {
   "codemirror_mode": {
    "name": "ipython",
    "version": 3
   },
   "file_extension": ".py",
   "mimetype": "text/x-python",
   "name": "python",
   "nbconvert_exporter": "python",
   "pygments_lexer": "ipython3",
   "version": "3.7.13"
  }
 },
 "nbformat": 4,
 "nbformat_minor": 5
}
