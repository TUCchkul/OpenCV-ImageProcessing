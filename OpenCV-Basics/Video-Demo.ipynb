{
 "cells": [
  {
   "cell_type": "code",
   "execution_count": 1,
   "id": "d7b4e7b2",
   "metadata": {},
   "outputs": [],
   "source": [
    "import cv2\n",
    "import matplotlib.pyplot as plt\n",
    "import numpy as np\n",
    "import os \n",
    "from pathlib import Path"
   ]
  },
  {
   "cell_type": "code",
   "execution_count": null,
   "id": "4be99fe0",
   "metadata": {},
   "outputs": [],
   "source": [
    "cam_idx=0\n",
    "\n",
    "cap=cv2.VideoCapture(cam_idx)\n",
    "img_idx=0\n",
    "sample_class=\"kul\"\n",
    "os.makedirs(f\"samples/{sample_class}\", exist_ok=True)\n",
    "while True:\n",
    "    #capturing the frame\n",
    "    ret,frame=cap.read()\n",
    "    # put the text on image\n",
    "    font=cv2.FONT_ITALIC\n",
    "    \n",
    "    cv2.putText(frame, sample_class, (480//2, 640//2), font, 1, (255,0,0),2)\n",
    "    cv2.imwrite(f\"samples/{sample_class}/sample_{img_idx}.jpg\", frame)\n",
    "    #print(x)\n",
    "    #print(frame.shape)\n",
    "    img_idx +=1\n",
    "    if cv2.waitKey(1) & 0xFF ==ord('q'):\n",
    "        break\n",
    "cap.release()\n",
    "cv2.destroyAllWindows()\n",
    "        "
   ]
  },
  {
   "cell_type": "code",
   "execution_count": 3,
   "id": "6877af41",
   "metadata": {},
   "outputs": [],
   "source": [
    "cap.release()\n",
    "cv2.destroyAllWindows()"
   ]
  },
  {
   "cell_type": "code",
   "execution_count": null,
   "id": "263a1b35",
   "metadata": {},
   "outputs": [],
   "source": []
  }
 ],
 "metadata": {
  "kernelspec": {
   "display_name": "Python 3 (ipykernel)",
   "language": "python",
   "name": "python3"
  },
  "language_info": {
   "codemirror_mode": {
    "name": "ipython",
    "version": 3
   },
   "file_extension": ".py",
   "mimetype": "text/x-python",
   "name": "python",
   "nbconvert_exporter": "python",
   "pygments_lexer": "ipython3",
   "version": "3.7.13"
  }
 },
 "nbformat": 4,
 "nbformat_minor": 5
}
