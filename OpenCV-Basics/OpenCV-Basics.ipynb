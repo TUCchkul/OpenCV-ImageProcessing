{
 "cells": [
  {
   "cell_type": "markdown",
   "id": "a1d3db46",
   "metadata": {},
   "source": [
    "# OpenCV\n",
    "\n",
    "## History of OpenCV\n",
    "OpenCV was started at Intel in 1999 by Gary Bradsky and the first release came out in 2000. Vadim Pisarevsky joined Gary Bradsky to manage Intel’s Russian software OpenCV team. In 2005, OpenCV was used on Stanley, the vehicle who won 2005 DARPA Grand Challenge. Later its active development continued under the support of Willow Garage, with Gary Bradsky and Vadim Pisarevsky leading the project. Right now, OpenCV supports a lot of algorithms related to Computer Vision and Machine Learning and it is expanding day-by-day.\n",
    "\n",
    "Currently OpenCV supports a wide variety of programming languages like C++, Python, Java etc and is available on different platforms including Windows, Linux, OS X, Android, iOS etc. Also, interfaces based on CUDA and OpenCL are also under active development for high-speed GPU operations.\n",
    "\n",
    "OpenCV-Python is the Python API of OpenCV. It combines the best qualities of OpenCV C++ API and Python language.\n",
    "\n",
    "## OpenCV-Python\n",
    "\n",
    "Compared to other languages like C/C++, Python is slower. But another important feature of Python is that it can be easily extended with C/C++. This feature helps us to write computationally intensive codes in C/C++ and create a Python wrapper for it so that we can use these wrappers as Python modules. This gives us two advantages: first, our code is as fast as original C/C++ code (since it is the actual C++ code working in background) and second, it is very easy to code in Python. This is how OpenCV-Python works, it is a Python wrapper around original C++ implementation.\n",
    "\n",
    "\n",
    "## Installing OpenCV\n",
    "\n",
    "`pip install opencv-contrib-python`\n",
    "\n",
    "`pip install opencv-python`\n",
    "\n",
    "<a href=\"https://pypi.org/project/opencv-contrib-python/\" target=\"_blank\">Pypi Link of opencv-contrib</a>\n",
    "\n",
    "<a href=\"https://pypi.org/project/opencv-python/\" target=\"_blank\">Pypi link of opencv-python </a>"
   ]
  },
  {
   "cell_type": "markdown",
   "id": "2150b257",
   "metadata": {},
   "source": [
    "## Reading an image\n",
    "\n",
    "The function cv2.imread() is used to read an image. The image should be in the working directory or a full path of the image.\n",
    "\n",
    "Arguments of the function : - \n",
    "\n",
    "* cv2.IMREAD_COLOR : Loads a color image. Any transparency of image will be neglected. It is the default flag.\n",
    "* cv2.IMREAD_GRAYSCALE : Loads image in grayscale mode\n",
    "* cv2.IMREAD_UNCHANGED : Loads image as such including alpha channel\n",
    "\n",
    "\n",
    "*Instead of these three flags, you can simply pass integers 1, 0 or -1 respectively.*\n"
   ]
  },
  {
   "cell_type": "code",
   "execution_count": 1,
   "id": "21e2bd34",
   "metadata": {},
   "outputs": [],
   "source": [
    "import cv2\n",
    "import numpy as np\n",
    "\n",
    "\n",
    "# Loading an color image in grayscale\n",
    "img1 = cv2.imread('img/actress.jpg',0)\n",
    "# Loading an color image in rgb\n",
    "img2 = cv2.imread('img/actress.jpg',1)\n",
    "# Loading an color image in rgb\n",
    "img3 = cv2.imread('img/actress.jpg',-1)"
   ]
  },
  {
   "cell_type": "markdown",
   "id": "1db99420",
   "metadata": {},
   "source": [
    "> Even if the image path is wrong, it won’t throw any error, but print(img) will give you **None**"
   ]
  },
  {
   "cell_type": "markdown",
   "id": "e89c77e8",
   "metadata": {},
   "source": [
    "## Displaying an image\n",
    "\n",
    "The function **cv2.imshow()** is used to display an image in a window. The window automatically fits to the image size.\n",
    "\n",
    "* First argument is the window name which is a string. \n",
    "* Second argument is our image. You can create as many windows as you wish, but with different window names."
   ]
  },
  {
   "cell_type": "code",
   "execution_count": 2,
   "id": "84d33ce6",
   "metadata": {},
   "outputs": [],
   "source": [
    "cv2.imshow('Grayscale image',img1)\n",
    "cv2.imshow('RGB image',img2)\n",
    "cv2.imshow('RGB image',img3)\n",
    "cv2.waitKey(0)\n",
    "cv2.destroyAllWindows()"
   ]
  },
  {
   "cell_type": "code",
   "execution_count": null,
   "id": "64a2e964",
   "metadata": {},
   "outputs": [],
   "source": []
  }
 ],
 "metadata": {
  "kernelspec": {
   "display_name": "Python 3 (ipykernel)",
   "language": "python",
   "name": "python3"
  },
  "language_info": {
   "codemirror_mode": {
    "name": "ipython",
    "version": 3
   },
   "file_extension": ".py",
   "mimetype": "text/x-python",
   "name": "python",
   "nbconvert_exporter": "python",
   "pygments_lexer": "ipython3",
   "version": "3.7.0"
  }
 },
 "nbformat": 4,
 "nbformat_minor": 5
}
